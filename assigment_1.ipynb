{
 "cells": [
  {
   "cell_type": "code",
   "execution_count": 2,
   "id": "6ced7737-4e3b-41b3-9d44-3ce8717ef1d7",
   "metadata": {
    "tags": []
   },
   "outputs": [],
   "source": [
    "# Q1. How do you comment code in Python? What are the different types of comments?"
   ]
  },
  {
   "cell_type": "code",
   "execution_count": 4,
   "id": "163a6c9e-70b2-4f64-b6ea-cf00bb3f2a1f",
   "metadata": {},
   "outputs": [],
   "source": [
    "# Ans. - For comment we can use # and for multiline comment we can use \"\"\" \"\"\""
   ]
  },
  {
   "cell_type": "code",
   "execution_count": 5,
   "id": "2359fd50-89aa-4c36-b7a9-09016199b52c",
   "metadata": {},
   "outputs": [],
   "source": [
    "# Q2. What are variables in Python? How do you declare and assign values to variables?"
   ]
  },
  {
   "cell_type": "code",
   "execution_count": null,
   "id": "98d02afa-f627-4ad8-b81b-e01fcf17e128",
   "metadata": {},
   "outputs": [],
   "source": [
    "# There are various variable in python like str,int,boolean, float,tuple,set,list"
   ]
  },
  {
   "cell_type": "code",
   "execution_count": null,
   "id": "e9eea239-41fb-47d4-8577-ea533307382c",
   "metadata": {},
   "outputs": [],
   "source": [
    "# Q3. How do you convert one data type to another in Python?"
   ]
  },
  {
   "cell_type": "code",
   "execution_count": null,
   "id": "7629b7b0-bbb3-4f7b-96f1-d16f8e78c47e",
   "metadata": {},
   "outputs": [],
   "source": [
    "# Ans. - Using Type Casting "
   ]
  },
  {
   "cell_type": "code",
   "execution_count": null,
   "id": "27d4f15b-c999-4eb1-8dc2-41a24bb09d72",
   "metadata": {},
   "outputs": [],
   "source": [
    "# Q4. How do you write and execute a Python script from the command line?"
   ]
  },
  {
   "cell_type": "code",
   "execution_count": null,
   "id": "d91080fa-6ea4-4662-a5bd-d00ae0b8b109",
   "metadata": {},
   "outputs": [],
   "source": [
    "# ANS.- simply write code in jupiternote pad and execute by pressing commant +enter "
   ]
  },
  {
   "cell_type": "code",
   "execution_count": null,
   "id": "dc6f9546-e806-4bb8-b176-1571000cc6d3",
   "metadata": {},
   "outputs": [],
   "source": [
    "# Q5. Given a list my_list = [1, 2, 3, 4, 5], write the code to slice the list and obtain the sub-list [2, 3]."
   ]
  },
  {
   "cell_type": "code",
   "execution_count": 13,
   "id": "23301497-6bc8-44b2-9461-0476ab17e539",
   "metadata": {},
   "outputs": [],
   "source": [
    "my_list = [1,2,3,4,5]"
   ]
  },
  {
   "cell_type": "code",
   "execution_count": 14,
   "id": "41268841-4b62-4a24-bf71-13e88d92256e",
   "metadata": {},
   "outputs": [],
   "source": [
    "sub_list = my_list[1:3]"
   ]
  },
  {
   "cell_type": "code",
   "execution_count": 15,
   "id": "e22d29b0-3e6c-4752-8124-cc7fe7f00233",
   "metadata": {},
   "outputs": [
    {
     "data": {
      "text/plain": [
       "[2, 3]"
      ]
     },
     "execution_count": 15,
     "metadata": {},
     "output_type": "execute_result"
    }
   ],
   "source": [
    "sub_list"
   ]
  },
  {
   "cell_type": "code",
   "execution_count": 16,
   "id": "c2bca52c-f3b5-4927-b81b-a474597bc5e3",
   "metadata": {},
   "outputs": [],
   "source": [
    "# Q6. What is a complex number in mathematics, and how is it represented in Python?"
   ]
  },
  {
   "cell_type": "code",
   "execution_count": null,
   "id": "2ebd1223-973a-46db-95f8-dc36afcd0883",
   "metadata": {},
   "outputs": [],
   "source": [
    "# Ans.- Complex number where we have 2 part one is real and another is imginary like 1+2j we can find the value of both \n",
    "# using funtion .real and .img"
   ]
  },
  {
   "cell_type": "code",
   "execution_count": null,
   "id": "efe1d496-f608-484e-9303-54c22d313b3c",
   "metadata": {},
   "outputs": [],
   "source": [
    "# Q7. What is the correct way to declare a variable named age and assign the value 25 to it?"
   ]
  },
  {
   "cell_type": "code",
   "execution_count": 18,
   "id": "104ba332-96bc-4ca4-ac95-225441e693fd",
   "metadata": {},
   "outputs": [],
   "source": [
    "age = int(25)"
   ]
  },
  {
   "cell_type": "code",
   "execution_count": null,
   "id": "ff86cdf0-2cb5-46ff-b8d8-d4d4b1232cf6",
   "metadata": {},
   "outputs": [],
   "source": [
    "# Q8. Declare a variable named price and assign the value 9.99 to it. What data type does this variable\n",
    "# belong to?"
   ]
  },
  {
   "cell_type": "code",
   "execution_count": 19,
   "id": "00e691ae-3bd6-4435-b3bc-bdd794334de3",
   "metadata": {},
   "outputs": [],
   "source": [
    "price = 9.99\n",
    "# this is float "
   ]
  },
  {
   "cell_type": "code",
   "execution_count": 22,
   "id": "62ef112b-4145-481b-b4a9-586917ebd835",
   "metadata": {},
   "outputs": [
    {
     "data": {
      "text/plain": [
       "float"
      ]
     },
     "execution_count": 22,
     "metadata": {},
     "output_type": "execute_result"
    }
   ],
   "source": [
    "type(price)"
   ]
  },
  {
   "cell_type": "code",
   "execution_count": 23,
   "id": "8131293c-2268-4acf-8e3f-60afbe7729de",
   "metadata": {},
   "outputs": [],
   "source": [
    "# Q9. Create a variable named name and assign your full name to it as a string. How would you print the\n",
    "# value of this variable?"
   ]
  },
  {
   "cell_type": "code",
   "execution_count": 24,
   "id": "03faa050-c69d-4ace-b77b-ea04fc1e95a0",
   "metadata": {},
   "outputs": [],
   "source": [
    "name = \"Sachin Singh\""
   ]
  },
  {
   "cell_type": "code",
   "execution_count": 26,
   "id": "bbfa84e3-536b-478f-a8a9-bd9f6a82a8eb",
   "metadata": {},
   "outputs": [
    {
     "name": "stdout",
     "output_type": "stream",
     "text": [
      "Sachin Singh\n"
     ]
    }
   ],
   "source": [
    "print(name)"
   ]
  },
  {
   "cell_type": "code",
   "execution_count": null,
   "id": "c2a5f289-9560-408a-8ae4-7c4994df823d",
   "metadata": {},
   "outputs": [],
   "source": [
    "# Q10. Given the string \"Hello, World!\", extract the substring \"World\"."
   ]
  },
  {
   "cell_type": "code",
   "execution_count": 29,
   "id": "3b2bfed5-09e1-4782-a7f6-9b24bbb4eeb8",
   "metadata": {},
   "outputs": [],
   "source": [
    "a = \"hello World\""
   ]
  },
  {
   "cell_type": "code",
   "execution_count": 31,
   "id": "1c72fb1c-b3f0-4480-b40b-7c5320573472",
   "metadata": {},
   "outputs": [
    {
     "data": {
      "text/plain": [
       "'World'"
      ]
     },
     "execution_count": 31,
     "metadata": {},
     "output_type": "execute_result"
    }
   ],
   "source": [
    "a[6:11]"
   ]
  },
  {
   "cell_type": "code",
   "execution_count": null,
   "id": "85c51499-4f42-494f-bd55-3422eb12850f",
   "metadata": {},
   "outputs": [],
   "source": [
    "# Q11. Create a variable named \"is_student\" and assign it a boolean value indicating whether you are\n",
    "# currently a student or not."
   ]
  },
  {
   "cell_type": "code",
   "execution_count": 32,
   "id": "45c5421c-3a89-4392-ba84-a564b0f2188f",
   "metadata": {},
   "outputs": [],
   "source": [
    "is_student = False"
   ]
  },
  {
   "cell_type": "code",
   "execution_count": null,
   "id": "d5fc3dd8-1d49-4441-a5c3-866ea3ef3fcb",
   "metadata": {},
   "outputs": [],
   "source": []
  }
 ],
 "metadata": {
  "kernelspec": {
   "display_name": "Python 3 (ipykernel)",
   "language": "python",
   "name": "python3"
  },
  "language_info": {
   "codemirror_mode": {
    "name": "ipython",
    "version": 3
   },
   "file_extension": ".py",
   "mimetype": "text/x-python",
   "name": "python",
   "nbconvert_exporter": "python",
   "pygments_lexer": "ipython3",
   "version": "3.10.8"
  }
 },
 "nbformat": 4,
 "nbformat_minor": 5
}
